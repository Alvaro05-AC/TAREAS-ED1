{
  "nbformat": 4,
  "nbformat_minor": 0,
  "metadata": {
    "colab": {
      "provenance": [],
      "include_colab_link": true
    },
    "kernelspec": {
      "name": "python3",
      "display_name": "Python 3"
    },
    "language_info": {
      "name": "python"
    }
  },
  "cells": [
    {
      "cell_type": "markdown",
      "metadata": {
        "id": "view-in-github",
        "colab_type": "text"
      },
      "source": [
        "<a href=\"https://colab.research.google.com/github/Alvaro05-AC/TAREAS-ED1/blob/main/TAREAS/Reto_4_ADT_Conjunto.ipynb\" target=\"_parent\"><img src=\"https://colab.research.google.com/assets/colab-badge.svg\" alt=\"Open In Colab\"/></a>"
      ]
    },
    {
      "cell_type": "markdown",
      "source": [
        "***ADT*** ***CONJUNTO*** ***METODOS*** ***ESTATICO*** ***Y*** ***DINAMICO***"
      ],
      "metadata": {
        "id": "UNl-yfWRBwxc"
      }
    },
    {
      "cell_type": "code",
      "execution_count": null,
      "metadata": {
        "id": "epjRxxwavZJ6",
        "outputId": "2224bbdd-28e0-4e47-fb33-d6da97400c1d",
        "colab": {
          "base_uri": "https://localhost:8080/"
        }
      },
      "outputs": [
        {
          "output_type": "stream",
          "name": "stdout",
          "text": [
            "Unión: [1, 2, 3, 4, 5]\n",
            "Intersección: [3]\n",
            "Diferencia A-B: [1, 2]\n",
            "Diferencia simétrica: [1, 2, 4, 5]\n",
            "¿A es subconjunto de B?: False\n",
            "¿A contiene 2?: True\n"
          ]
        }
      ],
      "source": [
        "class ConjuntoEstatico:\n",
        "    # Definición de la clase (no se instancia, solo sirve para agrupar métodos)\n",
        "\n",
        "    def union(conjunto1, conjunto2):\n",
        "        # Une dos conjuntos (listas) y elimina duplicados\n",
        "        return list(set(conjunto1) | set(conjunto2))\n",
        "\n",
        "    def interseccion(conjunto1, conjunto2):\n",
        "        # Devuelve los elementos comunes entre las dos listas\n",
        "        return list(set(conjunto1) & set(conjunto2))\n",
        "\n",
        "    def diferencia(conjunto1, conjunto2):\n",
        "        # Devuelve los elementos que están en conjunto1 pero no en conjunto2\n",
        "        return list(set(conjunto1) - set(conjunto2))\n",
        "\n",
        "    def diferencia_simetrica(conjunto1, conjunto2):\n",
        "        # Devuelve los elementos que están en A o en B, pero no en ambos\n",
        "        return list(set(conjunto1) ^ set(conjunto2))\n",
        "\n",
        "    def es_subconjunto(conjunto1, conjunto2):\n",
        "        # Verifica si conjunto1 está contenido en conjunto2\n",
        "        return set(conjunto1).issubset(set(conjunto2))\n",
        "\n",
        "    def contiene(conjunto, elemento):\n",
        "        # Verifica si un elemento pertenece al conjunto\n",
        "        return elemento in conjunto\n",
        "\n",
        "\n",
        "# ------------------ EJEMPLO DE USO ------------------\n",
        "\n",
        "A = [1, 2, 3]  # Lista que representa el conjunto A\n",
        "B = [3, 4, 5]  # Lista que representa el conjunto B\n",
        "\n",
        "print(\"Unión:\", ConjuntoEstatico.union(A, B))\n",
        "# -> [1, 2, 3, 4, 5]\n",
        "\n",
        "print(\"Intersección:\", ConjuntoEstatico.interseccion(A, B))\n",
        "# -> [3]\n",
        "\n",
        "print(\"Diferencia A-B:\", ConjuntoEstatico.diferencia(A, B))\n",
        "# -> [1, 2]\n",
        "\n",
        "print(\"Diferencia simétrica:\", ConjuntoEstatico.diferencia_simetrica(A, B))\n",
        "# -> [1, 2, 4, 5]\n",
        "\n",
        "print(\"¿A es subconjunto de B?:\", ConjuntoEstatico.es_subconjunto(A, B))\n",
        "# -> False\n",
        "\n",
        "print(\"¿A contiene 2?:\", ConjuntoEstatico.contiene(A, 2))\n",
        "# -> True\n"
      ]
    },
    {
      "cell_type": "code",
      "source": [
        "class ConjuntoDinamico:   #Conjunto Dinamico, aca si se instancia la clase.\n",
        "    def __init__(self, elementos=None):\n",
        "        if elementos is None:\n",
        "            self.elementos = []\n",
        "        else:\n",
        "            self.elementos = list(set(elementos))  # elimina duplicados\n",
        "\n",
        "    def agregar(self, elemento):\n",
        "        if elemento not in self.elementos:\n",
        "            self.elementos.append(elemento)\n",
        "\n",
        "    def eliminar(self, elemento):\n",
        "        if elemento in self.elementos:\n",
        "            self.elementos.remove(elemento)\n",
        "\n",
        "    def union(self, otro_conjunto):\n",
        "        return ConjuntoDinamico(list(set(self.elementos) | set(otro_conjunto.elementos)))\n",
        "\n",
        "    def interseccion(self, otro_conjunto):\n",
        "        return ConjuntoDinamico(list(set(self.elementos) & set(otro_conjunto.elementos)))\n",
        "\n",
        "    def diferencia(self, otro_conjunto):\n",
        "        return ConjuntoDinamico(list(set(self.elementos) - set(otro_conjunto.elementos)))\n",
        "\n",
        "    def diferencia_simetrica(self, otro_conjunto):\n",
        "        return ConjuntoDinamico(list(set(self.elementos) ^ set(otro_conjunto.elementos)))\n",
        "\n",
        "    def contiene(self, elemento):\n",
        "        return elemento in self.elementos\n",
        "\n",
        "    def __str__(self):\n",
        "        return \"{\" + \", \".join(map(str, self.elementos)) + \"}\"\n",
        "\n",
        "\n",
        "# Ejemplo de uso dinámico (con instancias)\n",
        "A = ConjuntoDinamico([1, 2, 3, 4])\n",
        "B = ConjuntoDinamico([3, 4, 5, 6])\n",
        "\n",
        "print(\"Conjunto A:\", A)\n",
        "print(\"Conjunto B:\", B)\n",
        "\n",
        "# Probar agregar y eliminar\n",
        "A.agregar(10)\n",
        "print(\"A después de agregar 10:\", A)\n",
        "\n",
        "A.eliminar(2)\n",
        "print(\"A después de eliminar 2:\", A)\n",
        "\n",
        "# Operaciones de conjuntos\n",
        "print(\"Unión:\", A.union(B))\n",
        "print(\"Intersección:\", A.interseccion(B))\n",
        "print(\"Diferencia A - B:\", A.diferencia(B))\n",
        "print(\"Diferencia simétrica:\", A.diferencia_simetrica(B))\n",
        "print(\"¿A contiene 3?:\", A.contiene(3))\n"
      ],
      "metadata": {
        "id": "CemU8rL8vvtV",
        "colab": {
          "base_uri": "https://localhost:8080/"
        },
        "outputId": "33e192a9-d743-476e-ad42-9c82c7617193"
      },
      "execution_count": 1,
      "outputs": [
        {
          "output_type": "stream",
          "name": "stdout",
          "text": [
            "Conjunto A: {1, 2, 3, 4}\n",
            "Conjunto B: {3, 4, 5, 6}\n",
            "A después de agregar 10: {1, 2, 3, 4, 10}\n",
            "A después de eliminar 2: {1, 3, 4, 10}\n",
            "Unión: {1, 3, 4, 5, 6, 10}\n",
            "Intersección: {3, 4}\n",
            "Diferencia A - B: {1, 10}\n",
            "Diferencia simétrica: {1, 10, 5, 6}\n",
            "¿A contiene 3?: True\n"
          ]
        }
      ]
    },
    {
      "cell_type": "code",
      "source": [],
      "metadata": {
        "id": "mtR1S1nJVWVz"
      },
      "execution_count": null,
      "outputs": []
    },
    {
      "cell_type": "code",
      "source": [],
      "metadata": {
        "id": "0CGS5rHxQn49"
      },
      "execution_count": null,
      "outputs": []
    },
    {
      "cell_type": "code",
      "source": [],
      "metadata": {
        "id": "W8UxMlNtez42"
      },
      "execution_count": null,
      "outputs": []
    }
  ]
}