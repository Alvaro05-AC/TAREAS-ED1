{
  "nbformat": 4,
  "nbformat_minor": 0,
  "metadata": {
    "colab": {
      "provenance": [],
      "mount_file_id": "1bRurSJH6usI9xROMFXH_GfVkwFDnPSQg",
      "authorship_tag": "ABX9TyN5Gaz3sE7JCIQcpyoQa3Ig",
      "include_colab_link": true
    },
    "kernelspec": {
      "name": "python3",
      "display_name": "Python 3"
    },
    "language_info": {
      "name": "python"
    }
  },
  "cells": [
    {
      "cell_type": "markdown",
      "metadata": {
        "id": "view-in-github",
        "colab_type": "text"
      },
      "source": [
        "<a href=\"https://colab.research.google.com/github/Alvaro05-AC/TAREAS-ED1/blob/main/TAREAS/Reto1_Estandarizacion_PeP8.ipynb\" target=\"_parent\"><img src=\"https://colab.research.google.com/assets/colab-badge.svg\" alt=\"Open In Colab\"/></a>"
      ]
    },
    {
      "cell_type": "markdown",
      "source": [
        "# **EJERCICIOS** **DE** **PEP8**"
      ],
      "metadata": {
        "id": "oh6mEVGPRDCu"
      }
    },
    {
      "cell_type": "markdown",
      "source": [
        "# ***Ejercicio 1: Calculadora de Masa Corporal(IMC)***"
      ],
      "metadata": {
        "id": "hasJMOYU9-MC"
      }
    },
    {
      "cell_type": "code",
      "execution_count": null,
      "metadata": {
        "colab": {
          "base_uri": "https://localhost:8080/"
        },
        "id": "JaWSrIDS0rj4",
        "outputId": "3950c330-6a68-4d00-cc6b-8d292c4345f9"
      },
      "outputs": [
        {
          "output_type": "stream",
          "name": "stdout",
          "text": [
            " Ingrese su peso en Kg: 85\n",
            " Ingrese su altura en Metros: 1.72\n",
            " Su IMC es: 28.73\n"
          ]
        }
      ],
      "source": [
        "def Calcular_imc(peso, altura):\n",
        "  \"\"\"\n",
        "  Calcula el Indice de Masa Corporal(IMC)\n",
        "\n",
        "  Parametros:\n",
        "  peso(float): Peso en kilogramos.\n",
        "  altura(float): altura en Metros.\n",
        "\n",
        "  Retorna:\n",
        "  float: El IMC calculado.\n",
        "  \"\"\"\n",
        "  imc = peso / (altura ** 2)\n",
        "  return imc\n",
        "\n",
        "\n",
        "#Entrada del usuario\n",
        "peso = float(input(\" Ingrese su peso en Kg: \"))\n",
        "altura = float(input(\" Ingrese su altura en Metros: \"))\n",
        "\n",
        "# Calculo y Salida\n",
        "imc= Calcular_imc(peso, altura)\n",
        "print(f\" Su IMC es: {imc:.2f}\")"
      ]
    },
    {
      "cell_type": "markdown",
      "source": [
        "# ***Ejercicio 2: Verificar si un numero es Primo***"
      ],
      "metadata": {
        "id": "f2py75erCiMq"
      }
    },
    {
      "cell_type": "code",
      "source": [
        "def Verif_Primo(numero):\n",
        "  \"\"\"\n",
        "  Verifica si un numero es Primo.\n",
        "\n",
        "  Parametros:\n",
        "  numero (int): Numero entero positivo\n",
        "\n",
        "  Retorna:\n",
        "  bool: True si es primo, False si no.\n",
        "  \"\"\"\n",
        "\n",
        "  if numero < 2:\n",
        "      return False\n",
        "  for i in range(2, int(numero ** 0.5)+1):\n",
        "        if numero % i == 0:\n",
        "            return False\n",
        "  return True\n",
        "\n",
        "#Entrada del Usuario\n",
        "numero = int(input(\" Ingrese un numero positivo y entero: \"))\n",
        "\n",
        "#Resultado\n",
        "if Verif_Primo(numero):\n",
        "     print( \"Es un numero primo. \")\n",
        "else:\n",
        "     print(\" No es un numero Primo. \")\n",
        "\n"
      ],
      "metadata": {
        "colab": {
          "base_uri": "https://localhost:8080/"
        },
        "id": "X_H2vFPDCtSp",
        "outputId": "9b49a6e8-7a23-4910-e009-d0a31cc081b9"
      },
      "execution_count": null,
      "outputs": [
        {
          "output_type": "stream",
          "name": "stdout",
          "text": [
            " Ingrese un numero positivo y entero: 8\n",
            " No es un numero Primo. \n"
          ]
        }
      ]
    },
    {
      "cell_type": "markdown",
      "source": [
        "# ***Ejercicio 3: Conversion de Grados Celcius a Farenheit***"
      ],
      "metadata": {
        "id": "N0nDBAVEGXxS"
      }
    },
    {
      "cell_type": "code",
      "source": [
        "def Celsius_a_Farenheit(celsius):\n",
        "  \"\"\"\"\n",
        "  Convierte un grado celsius a Farenheit\n",
        "\n",
        "  Parametros:\n",
        "  celsius(float) = Temperatura de grados Celsius\n",
        "\n",
        "  Retorna:\n",
        "  Convertido un grado celsius a farenheit\n",
        "  \"\"\"\n",
        "  return (celsius * 9 / 5) + 32\n",
        "\n",
        "#Entrada del Usuario\n",
        "celsius = float(input(\" Ingrese la temperatura en Celsius \"))\n",
        "\n",
        "#Resultado\n",
        "Farenheit = Celsius_a_Farenheit(celsius)\n",
        "print(f\"{celsius}°C son {Farenheit:.2f}°F\")"
      ],
      "metadata": {
        "id": "QKuoLKKQGnbJ",
        "colab": {
          "base_uri": "https://localhost:8080/"
        },
        "outputId": "a7732920-6126-4379-9416-ee2e9b34d15b"
      },
      "execution_count": null,
      "outputs": [
        {
          "output_type": "stream",
          "name": "stdout",
          "text": [
            " Ingrese la temperatura en Celsius 32\n",
            "32.0°C son 89.60°F\n"
          ]
        }
      ]
    }
  ]
}